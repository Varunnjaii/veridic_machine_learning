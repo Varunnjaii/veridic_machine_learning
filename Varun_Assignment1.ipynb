{
 "cells": [
  {
   "cell_type": "markdown",
   "metadata": {},
   "source": [
    "HINTS: If you want to take input using keyboard use input('enter the name:'), and when you execute it, python will prompt you to enter the name. Default input taken is a string, Use type casting int(), str() to convert type as needed."
   ]
  },
  {
   "cell_type": "markdown",
   "metadata": {},
   "source": [
    "1. Write a Python program to get a string made of the first 2 and the last chars from a given a string?\n",
    "\n",
    "string = 'veridicsolutions'\n",
    "\n",
    "expected output = vens\n"
   ]
  },
  {
   "cell_type": "code",
   "execution_count": 7,
   "metadata": {},
   "outputs": [
    {
     "name": "stdout",
     "output_type": "stream",
     "text": [
      "enter name: standards\n",
      "stds\n"
     ]
    }
   ],
   "source": [
    "string = str(input('enter name: '))\n",
    "cut = string[:2] + string[-2:]\n",
    "print (cut)\n"
   ]
  },
  {
   "cell_type": "markdown",
   "metadata": {},
   "source": [
    "2. Write a program to add up the last 2 characters 3 times for the above string?\n",
    "\n",
    "expected output = nsnsns"
   ]
  },
  {
   "cell_type": "code",
   "execution_count": 8,
   "metadata": {},
   "outputs": [
    {
     "name": "stdout",
     "output_type": "stream",
     "text": [
      "enter string: standards\n",
      "dsdsds\n"
     ]
    }
   ],
   "source": [
    "string = str(input('enter string: '))\n",
    "cut = 3 * string[-2:]\n",
    "print (cut)"
   ]
  },
  {
   "cell_type": "markdown",
   "metadata": {},
   "source": [
    "3. Read two integers from input() and print five lines where:\n",
    "    a.\tThe first line contains the sum of the two numbers.\n",
    "    b.\tThe second line contains the difference of the two numbers (first - second).\n",
    "    c.\tThe third line contains the product of the two numbers.\n",
    "    d.\t The fourth line should contain integer division, a//b.\n",
    "    e.\tThe fifth line should contain float division, a/b.\n"
   ]
  },
  {
   "cell_type": "code",
   "execution_count": 17,
   "metadata": {},
   "outputs": [
    {
     "name": "stdout",
     "output_type": "stream",
     "text": [
      "enter a number: 5\n",
      "enter another number: 4\n",
      "9\n",
      "1\n",
      "20\n",
      "1\n",
      "1.25\n"
     ]
    }
   ],
   "source": [
    "a = int(input('enter a number: '))\n",
    "b = int(input('enter another number: '))\n",
    "print(a+b)\n",
    "print(a-b)\n",
    "print(a*b)\n",
    "print(int(a/b))\n",
    "print(float(a/b))"
   ]
  },
  {
   "cell_type": "markdown",
   "metadata": {},
   "source": [
    "4. Write a program to print the following using string slicing given the string is ‘Python’\n",
    "    1.\t‘P’\n",
    "    2.\t‘n’\n",
    "    3.\t‘ytho’\n",
    "    4.\t‘on’\n",
    "    5.\t‘Py’\n"
   ]
  },
  {
   "cell_type": "code",
   "execution_count": 20,
   "metadata": {},
   "outputs": [
    {
     "name": "stdout",
     "output_type": "stream",
     "text": [
      "P\n",
      "n\n",
      "ytho\n",
      "on\n",
      "Py\n"
     ]
    }
   ],
   "source": [
    "st = 'Python'\n",
    "print(st[0])\n",
    "print(st[-1])\n",
    "print(st[1:-1])\n",
    "print(st[-2:])\n",
    "print(st[:2])\n"
   ]
  },
  {
   "cell_type": "markdown",
   "metadata": {},
   "source": [
    "5. Given 2 strings, print their concatenation, except omit the first char of each. The strings will be atleast length 1.        \n",
    "Example: 'Hello', 'There'  expected output:  'ellohere'\n"
   ]
  },
  {
   "cell_type": "code",
   "execution_count": 21,
   "metadata": {},
   "outputs": [
    {
     "name": "stdout",
     "output_type": "stream",
     "text": [
      "Enter First String: Namasthe\n",
      "Enter Second String: Vanakkam\n",
      "amastheanakkam\n"
     ]
    }
   ],
   "source": [
    "s = str(input('Enter First String: '))\n",
    "t = str(input('Enter Second String: '))\n",
    "p = s[1:] + t[1:]\n",
    "print(p)"
   ]
  },
  {
   "cell_type": "markdown",
   "metadata": {},
   "source": [
    "6. Given the participants' score sheet for your University Sports Day, you are required to find the runner-up score. You are given scores. Store them in a list and find the score of the runner-up.\n",
    "\n",
    "Example: Given list is [2,3,6,6,5]. The maximum score is 6, second maximum is 5. Hence, we print 5 as the runner-up score.\n"
   ]
  },
  {
   "cell_type": "code",
   "execution_count": 33,
   "metadata": {},
   "outputs": [
    {
     "name": "stdout",
     "output_type": "stream",
     "text": [
      "8\n"
     ]
    }
   ],
   "source": [
    "scores = [2,3,1,9,5,6,3,9,7,3,2,8,7,5,9]\n",
    "scores.sort()\n",
    "if scores[-1]!=scores[-2]:\n",
    "    print(scores[-2])\n",
    "elif scores[-2]!=scores[-3]:\n",
    "    print(scores[-3])\n",
    "elif scores[-3]!=scores[-4]:\n",
    "    print(scores[-4])\n",
    "else: print(\"I can't solve this bro\")\n",
    "    "
   ]
  },
  {
   "cell_type": "markdown",
   "metadata": {},
   "source": [
    "7. Given a student’s marks list as 56, 75, 89, 78. Calculate and print the total marks and the percentage that the student obtained. (Info: Total marks for each subject is 100)"
   ]
  },
  {
   "cell_type": "code",
   "execution_count": 24,
   "metadata": {},
   "outputs": [
    {
     "name": "stdout",
     "output_type": "stream",
     "text": [
      "298\n",
      "74.5\n"
     ]
    }
   ],
   "source": [
    "m = [56, 75, 89, 78]\n",
    "print(sum(m))\n",
    "print((sum(m))/len(m))"
   ]
  },
  {
   "cell_type": "markdown",
   "metadata": {},
   "source": [
    "8. Write a program to swap two numbers given only 2 variables 'a' and 'b' ( condition: No other variables should be declared other than a and b)"
   ]
  },
  {
   "cell_type": "code",
   "execution_count": 31,
   "metadata": {},
   "outputs": [
    {
     "name": "stdout",
     "output_type": "stream",
     "text": [
      "Enter one number a: 2\n",
      "Enter another number b: 3\n",
      "new value of a:  3\n",
      "new value of b:  2\n"
     ]
    }
   ],
   "source": [
    "a = int(input(\"Enter one number a: \"))\n",
    "b = int(input(\"Enter another number b: \"))\n",
    "a = a+b\n",
    "b = a-b\n",
    "a = a-b\n",
    "\n",
    "print(\"new value of a: \", a)\n",
    "print(\"new value of b: \",b)\n",
    "\n"
   ]
  },
  {
   "cell_type": "markdown",
   "metadata": {},
   "source": [
    "9. write a program to print the are and perimeter of a circle, given radisu is input from keyboard. ( PI value = 3.14)\n",
    "Area = PI * radius**2\n",
    "perimeter = 2* PI * radius"
   ]
  },
  {
   "cell_type": "code",
   "execution_count": 29,
   "metadata": {},
   "outputs": [
    {
     "name": "stdout",
     "output_type": "stream",
     "text": [
      "please enter the radius of circle: 4\n",
      "area of the circle:  50.264\n",
      "perimeter of the circle:  25.132\n"
     ]
    }
   ],
   "source": [
    "# program to print area and perimeter of a Circle\n",
    "\n",
    "r = float(input(\"please enter the radius of circle: \"))\n",
    "ar = 3.1415 * r**2\n",
    "p = 2*3.1415*r\n",
    "\n",
    "print(\"area of the circle: \", ar)\n",
    "print(\"perimeter of the circle: \", p)"
   ]
  },
  {
   "cell_type": "markdown",
   "metadata": {},
   "source": [
    "10. Practice string methods, list methods, dict methods "
   ]
  },
  {
   "cell_type": "code",
   "execution_count": 49,
   "metadata": {},
   "outputs": [
    {
     "name": "stdout",
     "output_type": "stream",
     "text": [
      "please enter a string1: lkaifjkik\n",
      "please enter string2: KKINkoinoin\n",
      "Lkaifjkik\n",
      "2\n",
      "3\n",
      "lkaifjkik\n",
      "KKINKOINOIN\n",
      "kkinKOINOIN\n"
     ]
    }
   ],
   "source": [
    "# Practicing string methods:\n",
    "\n",
    "s = input('please enter a string1: ')\n",
    "t = input('please enter string2: ')\n",
    "\n",
    "print(s.capitalize())\n",
    "print(s.count(\"i\"))\n",
    "print(s.find(\"i\"))\n",
    "print(s.lower())\n",
    "print(t.upper())\n",
    "print(t.swapcase())"
   ]
  },
  {
   "cell_type": "code",
   "execution_count": 55,
   "metadata": {},
   "outputs": [
    {
     "name": "stdout",
     "output_type": "stream",
     "text": [
      "['hey', 'ram', 'raj', 'mega', 'sheyy', 'chaalu', 'hat']\n",
      "2\n",
      "['hey', 'raj', 'sheyy', 'chaalu', 'hat']\n"
     ]
    }
   ],
   "source": [
    "# Practicing list methods:\n",
    "\n",
    "list = ['ram', 'raj', 'mega']\n",
    "list.append('sheyy')         \n",
    "list.insert(0, 'hey')        \n",
    "list.extend(['chaalu', 'hat'])  \n",
    "print(list)  \n",
    "print (list.index('raj'))    \n",
    "list.remove('mega')         \n",
    "list.pop(1)                  \n",
    "print(list)  "
   ]
  },
  {
   "cell_type": "code",
   "execution_count": null,
   "metadata": {},
   "outputs": [],
   "source": []
  }
 ],
 "metadata": {
  "kernelspec": {
   "display_name": "Python 3",
   "language": "python",
   "name": "python3"
  },
  "language_info": {
   "codemirror_mode": {
    "name": "ipython",
    "version": 3
   },
   "file_extension": ".py",
   "mimetype": "text/x-python",
   "name": "python",
   "nbconvert_exporter": "python",
   "pygments_lexer": "ipython3",
   "version": "3.7.1"
  }
 },
 "nbformat": 4,
 "nbformat_minor": 2
}
